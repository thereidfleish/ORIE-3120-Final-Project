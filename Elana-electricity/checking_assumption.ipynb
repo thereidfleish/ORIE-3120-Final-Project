{
 "cells": [
  {
   "cell_type": "code",
   "execution_count": null,
   "metadata": {},
   "outputs": [],
   "source": [
    "#checking assumption of the linear regression model\n",
    "\n",
    "#goal: check that the residuals are independent normal R.V's with constant variance \n",
    "\n",
    "# 1) plot residuals vs each covariate\n",
    "# 2) autocorrelation plots\n",
    "# 3) q-q plots\n"
   ]
  },
  {
   "cell_type": "code",
   "execution_count": null,
   "metadata": {},
   "outputs": [],
   "source": [
    "#first covariate: temperature\n",
    "weather = pd.read_csv(\"weather_hourly.csv\")\n",
    "\n",
    "\n",
    "df = weather.join([chilled_water, steam, electricity], how=\"inner\").reset_index()\n",
    "\n",
    "X = df[\"temperature_2m (°F)\"]\n",
    "Y = df[\"chilled_water\"]\n",
    "\n",
    "X = sm.add_constant(X)\n",
    "model_q1 = sm.OLS(Y, X).fit()"
   ]
  },
  {
   "cell_type": "code",
   "execution_count": null,
   "metadata": {},
   "outputs": [],
   "source": []
  }
 ],
 "metadata": {
  "language_info": {
   "name": "python"
  },
  "orig_nbformat": 4
 },
 "nbformat": 4,
 "nbformat_minor": 2
}
